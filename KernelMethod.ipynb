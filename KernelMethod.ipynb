{
 "cells": [
  {
   "cell_type": "code",
   "execution_count": 1,
   "id": "9c180550",
   "metadata": {},
   "outputs": [],
   "source": [
    "# Operator Learning via Kernel Methods\n",
    "#\n",
    "# This is mostly a script for prototyping methods"
   ]
  },
  {
   "cell_type": "code",
   "execution_count": 2,
   "id": "ff299ea7",
   "metadata": {},
   "outputs": [],
   "source": [
    "# Imports\n",
    "import numpy as np\n",
    "from sklearn.metrics.pairwise import rbf_kernel\n",
    "import sys\n",
    "sys.path.append('./')\n",
    "from KLearn import *"
   ]
  },
  {
   "cell_type": "code",
   "execution_count": 3,
   "id": "0d28ccdd",
   "metadata": {},
   "outputs": [],
   "source": [
    "# Define some Kernels\n",
    "gamma = 1e-10;\n",
    "K = lambda y1,y2 : rbf_kernel(y1,y2, gamma = gamma)\n",
    "S = lambda x1,x2 : (x1.T @ x2 + 1)**2 # lame, for now"
   ]
  },
  {
   "cell_type": "code",
   "execution_count": 4,
   "id": "1b75536c",
   "metadata": {},
   "outputs": [],
   "source": [
    "# define some functions and their derivatives\n",
    "f1 = lambda x : x;\n",
    "df1 = lambda x : np.ones(np.shape(x));\n",
    "\n",
    "f2 = lambda x : x**2;\n",
    "df2 = lambda x : 2*x;\n",
    "\n",
    "f3 = lambda x : np.sin(x);\n",
    "df3 = lambda x : np.cos(x);"
   ]
  },
  {
   "cell_type": "code",
   "execution_count": 5,
   "id": "8d289874",
   "metadata": {},
   "outputs": [],
   "source": [
    "# Define phi, psi, and the collocation points\n",
    "n = 20;\n",
    "xphi = d2(np.linspace(0,1,num=n)).T;\n",
    "phi = lambda f : d2(f(xphi));\n",
    "\n",
    "m = 20;\n",
    "ypsi = d2(np.linspace(0,1,num=m)).T;\n",
    "psi = lambda f : d2(f(ypsi));"
   ]
  },
  {
   "cell_type": "code",
   "execution_count": 6,
   "id": "8c0ab7de",
   "metadata": {},
   "outputs": [],
   "source": [
    "# Test it out\n",
    "#phi(f1)"
   ]
  },
  {
   "cell_type": "code",
   "execution_count": 7,
   "id": "e8250194",
   "metadata": {},
   "outputs": [
    {
     "name": "stdout",
     "output_type": "stream",
     "text": [
      "(20, 1)\n"
     ]
    }
   ],
   "source": [
    "# LEARN!\n",
    "U = phi(f1); V = psi(df1);\n",
    "print(np.shape(U))\n",
    "Y = ypsi;\n",
    "D = KLearn(U,V,m,S,K,Y)"
   ]
  },
  {
   "cell_type": "code",
   "execution_count": 8,
   "id": "534851ce",
   "metadata": {
    "scrolled": false
   },
   "outputs": [
    {
     "data": {
      "text/plain": [
       "array([[1.],\n",
       "       [1.],\n",
       "       [1.],\n",
       "       [1.],\n",
       "       [1.],\n",
       "       [1.],\n",
       "       [1.],\n",
       "       [1.],\n",
       "       [1.],\n",
       "       [1.],\n",
       "       [1.],\n",
       "       [1.],\n",
       "       [1.],\n",
       "       [1.],\n",
       "       [1.],\n",
       "       [1.],\n",
       "       [1.],\n",
       "       [1.],\n",
       "       [1.],\n",
       "       [1.]])"
      ]
     },
     "execution_count": 8,
     "metadata": {},
     "output_type": "execute_result"
    }
   ],
   "source": [
    "# Does it work... ?\n",
    "Df1 = D(U);\n",
    "Df1(ypsi)"
   ]
  },
  {
   "cell_type": "code",
   "execution_count": null,
   "id": "e2beef66",
   "metadata": {},
   "outputs": [],
   "source": []
  }
 ],
 "metadata": {
  "kernelspec": {
   "display_name": "Python 3 (ipykernel)",
   "language": "python",
   "name": "python3"
  },
  "language_info": {
   "codemirror_mode": {
    "name": "ipython",
    "version": 3
   },
   "file_extension": ".py",
   "mimetype": "text/x-python",
   "name": "python",
   "nbconvert_exporter": "python",
   "pygments_lexer": "ipython3",
   "version": "3.11.5"
  }
 },
 "nbformat": 4,
 "nbformat_minor": 5
}
