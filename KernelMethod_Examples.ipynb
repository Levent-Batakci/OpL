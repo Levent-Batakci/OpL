{
 "cells": [
  {
   "cell_type": "code",
   "execution_count": null,
   "id": "59e3826a",
   "metadata": {},
   "outputs": [],
   "source": [
    "# Operator Learning via Kernel Methods\n",
    "#\n",
    "# This is mostly a script for prototyping methods"
   ]
  },
  {
   "cell_type": "code",
   "execution_count": null,
   "id": "29970d70",
   "metadata": {},
   "outputs": [],
   "source": [
    "# Imports\n",
    "import numpy as np\n",
    "import sklearn as skl\n",
    "from sklearn.metrics.pairwise import rbf_kernel\n",
    "from sklearn.metrics.pairwise import pairwise_distances\n",
    "from sklearn.kernel_ridge import KernelRidge\n",
    "import sys\n",
    "sys.path.append('./')\n",
    "from KLearn import *\n",
    "from functools import reduce\n",
    "import matplotlib.pyplot as plt"
   ]
  },
  {
   "cell_type": "code",
   "execution_count": null,
   "id": "5470d509",
   "metadata": {},
   "outputs": [],
   "source": [
    "# Define some Kernels\n",
    "gamma = 50;\n",
    "K = lambda y1,y2 : rbf_kernel(y1,y2, gamma = gamma)\n",
    "S = lambda x1,x2 : rbf_kernel(x1.T,x2.T, gamma = 0.00001) # lame, for now"
   ]
  },
  {
   "cell_type": "code",
   "execution_count": null,
   "id": "f469c02f",
   "metadata": {},
   "outputs": [],
   "source": [
    "### Generating Data\n",
    "\n",
    "## GP kernel\n",
    "\n",
    "def gp_kernel(t, sigma):\n",
    "  return np.exp( - (1/(2*sigma**2))*t**2)\n",
    "\n",
    "N_mesh = 100\n",
    "x = np.linspace(0,1, N_mesh) # fine grid for visualization\n",
    "\n",
    "## compute pairwise distance matrix\n",
    "\n",
    "dist_matrix = pairwise_distances( x.reshape(-1,1), x.reshape(-1,1))\n",
    "\n",
    "## GP lengthscale\n",
    "sigma = 0.1\n",
    "Cov_matrix = gp_kernel(dist_matrix, sigma) + 1e-8*np.eye(N_mesh)\n",
    "Cov_matrix = 1/2*(Cov_matrix + Cov_matrix.T)\n",
    "\n",
    "Cov_matrix_sqrt = np.linalg.cholesky(Cov_matrix)\n",
    "\n",
    "print(Cov_matrix_sqrt)"
   ]
  },
  {
   "cell_type": "code",
   "execution_count": null,
   "id": "4af786b2",
   "metadata": {},
   "outputs": [],
   "source": [
    "## Training and test functions\n",
    "\n",
    "N_train = 1000    # Number of training functions\n",
    "N_test  = 5     # Number of testing functions\n",
    "u_train = np.zeros((N_mesh, N_train))\n",
    "u_test  = np.zeros((N_mesh, N_test))\n",
    "\n",
    "for i in range(N_train):\n",
    "  xi = np.random.randn(N_mesh)\n",
    "  u_train[:, i] = np.dot(Cov_matrix_sqrt, xi)\n",
    "\n",
    "for i in range(N_test):\n",
    "  xi = np.random.randn(N_mesh)\n",
    "  u_test [:, i] = np.dot(Cov_matrix_sqrt, xi)\n",
    "    \n",
    "u_train = u_train*1./np.linalg.norm(u_train, axis=0)\n",
    "u_test = u_test*1./np.linalg.norm(u_test, axis=0)\n",
    "    \n",
    "# define pointwise operator\n",
    "\n",
    "def op_square(u):\n",
    "  return u**2\n",
    "\n",
    "def op_sin(u):\n",
    "    return np.sin(u)\n",
    "\n",
    "def op_I(u):\n",
    "    return u\n",
    "\n",
    "def op_diff(u,x):\n",
    "    return np.gradient(u, x, axis=0)\n",
    "\n",
    "v_train = op_square(u_train)\n",
    "v_test  = op_square(u_test)"
   ]
  },
  {
   "cell_type": "code",
   "execution_count": null,
   "id": "4c1adf01",
   "metadata": {},
   "outputs": [],
   "source": [
    "# Finish setting up\n",
    "U = u_train;\n",
    "V = v_train;\n",
    "Y = x.reshape((-1, 1));\n",
    "\n",
    "print(np.shape(U))\n",
    "print(U)\n",
    "print(np.shape(V))\n",
    "print(np.shape(Y))"
   ]
  },
  {
   "cell_type": "code",
   "execution_count": null,
   "id": "b361f307",
   "metadata": {},
   "outputs": [],
   "source": [
    "# LEARN!\n",
    "D,f = KLearn(U,V,N_mesh,S,K,Y)"
   ]
  },
  {
   "cell_type": "code",
   "execution_count": null,
   "id": "00702ead",
   "metadata": {
    "scrolled": true
   },
   "outputs": [],
   "source": [
    "# Does it work... ?\n",
    "v_mod = D(u_test);\n",
    "np.max(np.abs(v_mod(Y) - v_test)) # very nice..."
   ]
  },
  {
   "cell_type": "code",
   "execution_count": null,
   "id": "745e0a3b",
   "metadata": {
    "scrolled": true
   },
   "outputs": [],
   "source": [
    "# Define some Kernels again (this time, parameterized)\n",
    "K_ = lambda g: (lambda y1,y2 : rbf_kernel(y1,y2, gamma = g))\n",
    "S_ = lambda s : (lambda x1,x2 : rbf_kernel(x1,x2, gamma = s)) # lame, for now\n",
    "kgrid = np.linspace(10,200, 100)\n",
    "sgrid = 1/np.power(1.8,range(1,50))"
   ]
  },
  {
   "cell_type": "code",
   "execution_count": null,
   "id": "8cf8f061",
   "metadata": {},
   "outputs": [],
   "source": [
    "# LEARN AGAIN!\n",
    "D2,scoresS,gS = OpLearn(U,V, S_,sgrid, K_, kgrid,Y, report_scores=True)\n",
    "print(scores) # THESE ARE THE CV SCORES (currently rel. MSE)\n",
    "v_mod2,scoresK,gK = D2(u_test);"
   ]
  },
  {
   "cell_type": "code",
   "execution_count": null,
   "id": "0b704f04",
   "metadata": {},
   "outputs": [],
   "source": [
    "# Let's plot the errors\n",
    "fig, ax = plt.subplots(1,2)\n",
    "fig.set_size_inches(10,5)\n",
    "ax[0].loglog(sgrid, scoresS)\n",
    "ax[0].set( xlabel ='$\\gamma_s$', ylabel='CV Score', title = \"Parameter tuning for Recovery Map Kernel S\")\n",
    "\n",
    "ax[1].loglog(kgrid, scoresK)\n",
    "ax[1].set( xlabel ='$\\gamma_k$', ylabel='CV Score', title = \"Parameter tuning for Operator Kernel K\")"
   ]
  },
  {
   "cell_type": "code",
   "execution_count": null,
   "id": "60b2d90b",
   "metadata": {},
   "outputs": [],
   "source": [
    "# Does it work... ?\n",
    "np.max(np.abs(v_mod2(Y) - v_test)) # very nice..."
   ]
  },
  {
   "cell_type": "code",
   "execution_count": null,
   "id": "48c26fe7",
   "metadata": {},
   "outputs": [],
   "source": [
    "fig, ax = plt.subplots(2,2)\n",
    "fig.set_size_inches(25,15)\n",
    "\n",
    "ax[0,0].plot(u_test)\n",
    "ax[0,0].set( xlabel ='$x$', ylabel='$u_i(x)$', title = \"Input Test Functions\")\n",
    "\n",
    "ax[1,0].plot(v_test)\n",
    "ax[1,0].set( xlabel ='$x$', ylabel='$v_i(x) = \\mathcal{G}^\\dagger (u_i(x))$', title = \"Output Test Functions\")\n",
    "\n",
    "ax[1,1].plot(v_mod2(Y))\n",
    "ax[1,1].set( xlabel ='$x$', ylabel='$v^*_i(x) = \\mathcal{G}^*(u_i(x))$', title = \"Learned Test Functions\")\n",
    "\n",
    "ax[0,1].plot(v_mod2(Y)-v_test)\n",
    "ax[0,1].set( xlabel ='$x$', ylabel='$|\\mathcal{G}^*(u_i(x)) - v^\\dagger_i(x)|$' , title = \"CV-trained Absolute Error\")\n",
    "\n",
    "fig.savefig('Diff_Operator.png', dpi=300, bbox_inches='tight')"
   ]
  },
  {
   "cell_type": "code",
   "execution_count": null,
   "id": "87d3a6ea",
   "metadata": {},
   "outputs": [],
   "source": []
  }
 ],
 "metadata": {
  "kernelspec": {
   "display_name": "Python 3 (ipykernel)",
   "language": "python",
   "name": "python3"
  },
  "language_info": {
   "codemirror_mode": {
    "name": "ipython",
    "version": 3
   },
   "file_extension": ".py",
   "mimetype": "text/x-python",
   "name": "python",
   "nbconvert_exporter": "python",
   "pygments_lexer": "ipython3",
   "version": "3.11.5"
  }
 },
 "nbformat": 4,
 "nbformat_minor": 5
}
