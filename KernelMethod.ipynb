{
 "cells": [
  {
   "cell_type": "code",
   "execution_count": 1,
   "id": "0a05499a",
   "metadata": {},
   "outputs": [],
   "source": [
    "# Operator Learning via Kernel Methods\n",
    "#\n",
    "# This is mostly a script for prototyping methods"
   ]
  },
  {
   "cell_type": "code",
   "execution_count": 2,
   "id": "e7737ca4",
   "metadata": {},
   "outputs": [],
   "source": [
    "# Imports\n",
    "import numpy as np\n",
    "from sklearn.metrics.pairwise import rbf_kernel\n",
    "import sys\n",
    "sys.path.append('./')\n",
    "from KLearn import *"
   ]
  },
  {
   "cell_type": "code",
   "execution_count": 3,
   "id": "b8a65171",
   "metadata": {},
   "outputs": [],
   "source": [
    "# Define some Kernels\n",
    "gamma = 1e-10;\n",
    "K = lambda y1,y2 : rbf_kernel(y1.T,y2.T, gamma = gamma)\n",
    "S = lambda x1,x2 : (x1.T @ x2 + 1)**2 # lame, for now"
   ]
  },
  {
   "cell_type": "code",
   "execution_count": 4,
   "id": "468e6590",
   "metadata": {},
   "outputs": [],
   "source": [
    "# define some functions and their derivatives\n",
    "f1 = lambda x : x;\n",
    "df1 = lambda x : np.ones(np.shape(x));\n",
    "\n",
    "f2 = lambda x : x**2;\n",
    "df2 = lambda x : 2*x;\n",
    "\n",
    "f3 = lambda x : np.sin(x);\n",
    "df3 = lambda x : np.cos(x);"
   ]
  },
  {
   "cell_type": "code",
   "execution_count": 5,
   "id": "243f086b",
   "metadata": {},
   "outputs": [],
   "source": [
    "# Define phi, psi, and the collocation points\n",
    "n = 20;\n",
    "xphi = d2(np.linspace(0,1,num=n));\n",
    "phi = lambda f : d2(f(xphi));\n",
    "\n",
    "m = 20;\n",
    "ypsi = d2(np.linspace(0,1,num=m));\n",
    "psi = lambda f : d2(f(ypsi));"
   ]
  },
  {
   "cell_type": "code",
   "execution_count": 6,
   "id": "50789d9b",
   "metadata": {},
   "outputs": [],
   "source": [
    "# Test it out\n",
    "#phi(f1)"
   ]
  },
  {
   "cell_type": "code",
   "execution_count": 7,
   "id": "6225da57",
   "metadata": {},
   "outputs": [],
   "source": [
    "# LEARN!\n",
    "U = phi(f1); V = psi(df1);\n",
    "Y = ypsi;\n",
    "D = KLearn(U,V,m,S,K,Y)"
   ]
  },
  {
   "cell_type": "code",
   "execution_count": 9,
   "id": "364a7888",
   "metadata": {
    "scrolled": false
   },
   "outputs": [
    {
     "data": {
      "text/plain": [
       "array([[1.],\n",
       "       [1.],\n",
       "       [1.],\n",
       "       [1.],\n",
       "       [1.],\n",
       "       [1.],\n",
       "       [1.],\n",
       "       [1.],\n",
       "       [1.],\n",
       "       [1.],\n",
       "       [1.],\n",
       "       [1.],\n",
       "       [1.],\n",
       "       [1.],\n",
       "       [1.],\n",
       "       [1.],\n",
       "       [1.],\n",
       "       [1.],\n",
       "       [1.],\n",
       "       [1.]])"
      ]
     },
     "execution_count": 9,
     "metadata": {},
     "output_type": "execute_result"
    }
   ],
   "source": [
    "# Does it work... ?\n",
    "Df1 = D(U);\n",
    "Df1(ypsi)"
   ]
  },
  {
   "cell_type": "code",
   "execution_count": null,
   "id": "5c4d006c",
   "metadata": {},
   "outputs": [],
   "source": []
  }
 ],
 "metadata": {
  "kernelspec": {
   "display_name": "Python 3 (ipykernel)",
   "language": "python",
   "name": "python3"
  },
  "language_info": {
   "codemirror_mode": {
    "name": "ipython",
    "version": 3
   },
   "file_extension": ".py",
   "mimetype": "text/x-python",
   "name": "python",
   "nbconvert_exporter": "python",
   "pygments_lexer": "ipython3",
   "version": "3.11.5"
  }
 },
 "nbformat": 4,
 "nbformat_minor": 5
}
