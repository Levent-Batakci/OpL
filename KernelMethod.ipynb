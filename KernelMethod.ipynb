{
 "cells": [
  {
   "cell_type": "code",
   "execution_count": 54,
   "id": "59e3826a",
   "metadata": {},
   "outputs": [],
   "source": [
    "# Operator Learning via Kernel Methods\n",
    "#\n",
    "# This is mostly a script for prototyping methods"
   ]
  },
  {
   "cell_type": "code",
   "execution_count": 55,
   "id": "29970d70",
   "metadata": {},
   "outputs": [],
   "source": [
    "# Imports\n",
    "import numpy as np\n",
    "from sklearn.metrics.pairwise import rbf_kernel\n",
    "import sys\n",
    "sys.path.append('./')\n",
    "from KLearn import *"
   ]
  },
  {
   "cell_type": "code",
   "execution_count": 56,
   "id": "5470d509",
   "metadata": {},
   "outputs": [],
   "source": [
    "# Define some Kernels\n",
    "gamma = 0.1;\n",
    "K = lambda y1,y2 : rbf_kernel(y1,y2, gamma = gamma)\n",
    "S = lambda x1,x2 : (x1.T @ x2 + 1)**2 # lame, for now"
   ]
  },
  {
   "cell_type": "code",
   "execution_count": 57,
   "id": "2c302699",
   "metadata": {},
   "outputs": [],
   "source": [
    "# define some functions and their derivatives\n",
    "f1 = lambda x : x;\n",
    "df1 = lambda x : np.ones(np.shape(x));\n",
    "\n",
    "f2 = lambda x : x**2;\n",
    "df2 = lambda x : 2*x;\n",
    "\n",
    "f3 = lambda x : np.sin(x);\n",
    "df3 = lambda x : np.cos(x);"
   ]
  },
  {
   "cell_type": "code",
   "execution_count": 58,
   "id": "42c6bd07",
   "metadata": {},
   "outputs": [],
   "source": [
    "# Define phi, psi, and the collocation points\n",
    "n = 100;\n",
    "xphi = d2(np.linspace(0,1,num=n)).T;\n",
    "phi = lambda f : d2(f(xphi));\n",
    "\n",
    "m = 100;\n",
    "ypsi = d2(np.linspace(0,1,num=m)).T;\n",
    "psi = lambda f : d2(f(ypsi));"
   ]
  },
  {
   "cell_type": "code",
   "execution_count": 59,
   "id": "05a9613f",
   "metadata": {},
   "outputs": [],
   "source": [
    "# Test it out\n",
    "#phi(f1)"
   ]
  },
  {
   "cell_type": "code",
   "execution_count": 64,
   "id": "4c1adf01",
   "metadata": {},
   "outputs": [
    {
     "name": "stdout",
     "output_type": "stream",
     "text": [
      "(100, 3)\n"
     ]
    }
   ],
   "source": [
    "# Finish setting up\n",
    "U = np.hstack( (phi(f1), phi(f2), phi(f3)) ); V = np.hstack( (psi(df1), psi(df2), psi(df3)) );\n",
    "print(np.shape(U))\n",
    "Y = ypsi;"
   ]
  },
  {
   "cell_type": "code",
   "execution_count": 65,
   "id": "b361f307",
   "metadata": {},
   "outputs": [],
   "source": [
    "# LEARN!\n",
    "D = KLearn(U,V,m,S,K,Y)"
   ]
  },
  {
   "cell_type": "code",
   "execution_count": 69,
   "id": "00702ead",
   "metadata": {
    "scrolled": true
   },
   "outputs": [
    {
     "data": {
      "text/plain": [
       "7.371122592303436e-06"
      ]
     },
     "execution_count": 69,
     "metadata": {},
     "output_type": "execute_result"
    }
   ],
   "source": [
    "# Does it work... ?\n",
    "Df2 = D(phi(f3));\n",
    "np.max(np.abs(Df2(ypsi) - df3(ypsi))) # very nice..."
   ]
  }
 ],
 "metadata": {
  "kernelspec": {
   "display_name": "Python 3 (ipykernel)",
   "language": "python",
   "name": "python3"
  },
  "language_info": {
   "codemirror_mode": {
    "name": "ipython",
    "version": 3
   },
   "file_extension": ".py",
   "mimetype": "text/x-python",
   "name": "python",
   "nbconvert_exporter": "python",
   "pygments_lexer": "ipython3",
   "version": "3.11.5"
  }
 },
 "nbformat": 4,
 "nbformat_minor": 5
}
