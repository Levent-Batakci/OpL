{
 "cells": [
  {
   "cell_type": "code",
   "execution_count": 181,
   "id": "59e3826a",
   "metadata": {},
   "outputs": [],
   "source": [
    "# Operator Learning via Kernel Methods\n",
    "#\n",
    "# This is mostly a script for prototyping methods"
   ]
  },
  {
   "cell_type": "code",
   "execution_count": 196,
   "id": "29970d70",
   "metadata": {},
   "outputs": [],
   "source": [
    "# Imports\n",
    "import numpy as np\n",
    "from sklearn.metrics.pairwise import rbf_kernel\n",
    "import sys\n",
    "sys.path.append('./')\n",
    "from KLearn import *\n",
    "from functools import reduce\n",
    "import matplotlib.pyplot as plt"
   ]
  },
  {
   "cell_type": "code",
   "execution_count": 197,
   "id": "5470d509",
   "metadata": {},
   "outputs": [],
   "source": [
    "# Define some Kernels\n",
    "gamma = 0.1;\n",
    "K = lambda y1,y2 : rbf_kernel(y1,y2, gamma = gamma)\n",
    "S = lambda x1,x2 : (x1.T @ x2 + 1)**2 # lame, for now"
   ]
  },
  {
   "cell_type": "code",
   "execution_count": 198,
   "id": "fbbff9b0",
   "metadata": {},
   "outputs": [],
   "source": [
    "def comp_fxn(*fxn): \n",
    "      \n",
    "    def comp(f, g): \n",
    "        return lambda x : f(g(x)) \n",
    "              \n",
    "    return reduce(comp, fxn, lambda x : x) "
   ]
  },
  {
   "cell_type": "code",
   "execution_count": 199,
   "id": "2c302699",
   "metadata": {},
   "outputs": [],
   "source": [
    "# define some functions and their derivatives\n",
    "f1 = lambda x : x;\n",
    "df1 = lambda x : np.ones(np.shape(x));\n",
    "\n",
    "f2 = lambda x : x**2;\n",
    "df2 = lambda x : 2*x;\n",
    "\n",
    "f3 = lambda x : np.sin(x);\n",
    "df3 = lambda x : np.cos(x);\n",
    "\n",
    "f4 = lambda x : np.exp(-x**2);\n",
    "df4 = lambda x : -2*x*np.exp(-x**2);\n"
   ]
  },
  {
   "cell_type": "code",
   "execution_count": 200,
   "id": "63f3a840",
   "metadata": {},
   "outputs": [],
   "source": [
    "# define functions and their laplacians\n",
    "d2f1 = lambda x : np.zeros(np.shape(x));\n",
    "\n",
    "d2f2 = lambda x : 2*np.ones(np.shape(x));\n",
    "\n",
    "d2f3 = lambda x : -np.sin(x);\n",
    "\n",
    "d2f4 = lambda x : 2*(2*x**2 - 1) * np.exp(-x**2);"
   ]
  },
  {
   "cell_type": "code",
   "execution_count": 201,
   "id": "d3b1bc4b",
   "metadata": {},
   "outputs": [],
   "source": [
    "# define functions and their squares\n",
    "def op_square(x):\n",
    "    return x**2\n",
    "\n",
    "fs1 = comp_fxn(op_square, f1);\n",
    "fs2 = comp_fxn(op_square, f2);\n",
    "fs3 = comp_fxn(op_square, f3);\n",
    "fs4 = comp_fxn(op_square, f4);"
   ]
  },
  {
   "cell_type": "code",
   "execution_count": null,
   "id": "f126c00e",
   "metadata": {},
   "outputs": [],
   "source": []
  },
  {
   "cell_type": "code",
   "execution_count": 202,
   "id": "4e0e79d8",
   "metadata": {},
   "outputs": [],
   "source": [
    "# define the sine composition of the original functions\n",
    "def op_sin(x):\n",
    "    return np.sin(x)\n",
    "\n",
    "fsin1 = comp_fxn(op_sin, f1);\n",
    "fsin2 = comp_fxn(op_sin, f2);\n",
    "fsin3 = comp_fxn(op_sin, f3);\n",
    "fsin4 = comp_fxn(op_sin, f4);"
   ]
  },
  {
   "cell_type": "code",
   "execution_count": 203,
   "id": "42c6bd07",
   "metadata": {},
   "outputs": [],
   "source": [
    "# Define phi, psi, and the collocation points\n",
    "n = 100;\n",
    "xphi = d2(np.linspace(0,1,num=n)).T;\n",
    "phi = lambda f : d2(f(xphi));\n",
    "\n",
    "m = 75;\n",
    "ypsi = d2(np.linspace(0,1,num=m)).T;\n",
    "psi = lambda f : d2(f(ypsi));"
   ]
  },
  {
   "cell_type": "code",
   "execution_count": 204,
   "id": "05a9613f",
   "metadata": {},
   "outputs": [],
   "source": [
    "# Test it out\n",
    "#phi(f1)"
   ]
  },
  {
   "cell_type": "code",
   "execution_count": 205,
   "id": "4c1adf01",
   "metadata": {},
   "outputs": [
    {
     "name": "stdout",
     "output_type": "stream",
     "text": [
      "(100, 4)\n"
     ]
    }
   ],
   "source": [
    "# Finish setting up\n",
    "U = np.hstack( (phi(f1), phi(f2), phi(f3), phi(f4)) ); \n",
    "V = np.hstack( (psi(fsin1), psi(fsin2), psi(fsin3), psi(fsin4)) );\n",
    "print(np.shape(U))\n",
    "Y = ypsi;"
   ]
  },
  {
   "cell_type": "code",
   "execution_count": 206,
   "id": "b361f307",
   "metadata": {},
   "outputs": [],
   "source": [
    "# LEARN!\n",
    "D = KLearn(U,V,m,S,K,Y)"
   ]
  },
  {
   "cell_type": "code",
   "execution_count": 207,
   "id": "00702ead",
   "metadata": {
    "scrolled": true
   },
   "outputs": [
    {
     "data": {
      "text/plain": [
       "1.1559778245961994e-05"
      ]
     },
     "execution_count": 207,
     "metadata": {},
     "output_type": "execute_result"
    }
   ],
   "source": [
    "# Does it work... ?\n",
    "fSin1 = D(phi(f1));\n",
    "np.max(np.abs(fSin1(ypsi) - fsin1(ypsi))) # very nice..."
   ]
  },
  {
   "cell_type": "code",
   "execution_count": 208,
   "id": "58ac479c",
   "metadata": {},
   "outputs": [
    {
     "data": {
      "text/plain": [
       "array([[-9.15426188e-06]])"
      ]
     },
     "execution_count": 208,
     "metadata": {},
     "output_type": "execute_result"
    }
   ],
   "source": [
    "fSin1(0)"
   ]
  },
  {
   "cell_type": "code",
   "execution_count": 209,
   "id": "3cbe49d7",
   "metadata": {},
   "outputs": [
    {
     "data": {
      "image/png": "[encoded data removed]",
      "text/plain": [
       "<Figure size 1000x500 with 1 Axes>"
      ]
     },
     "metadata": {},
     "output_type": "display_data"
    }
   ],
   "source": [
    "plt.figure(figsize = (10,5)) # set the size of the figure\n",
    "plt.plot(ypsi,f1(ypsi), label=\"f3\") # scatter plot of the data\n",
    "plt.scatter(ypsi,f1(ypsi), label=\"f3\") # scatter plot of the data\n",
    "plt.plot(ypsi,fsin1(ypsi), label=\"fs3\")\n",
    "plt.scatter(ypsi,fSin1(ypsi), label = \"fS3\")\n",
    "plt.legend(loc=\"upper left\")\n",
    "plt.xlabel('x')  # x-axis label\n",
    "plt.grid()\n",
    "# plt.savefig('OpL_plot.png', dpi = 600, bbox_inches = 'tight')"
   ]
  },
  {
   "cell_type": "code",
   "execution_count": null,
   "id": "10abf10e",
   "metadata": {},
   "outputs": [],
   "source": []
  }
 ],
 "metadata": {
  "kernelspec": {
   "display_name": "Python 3 (ipykernel)",
   "language": "python",
   "name": "python3"
  },
  "language_info": {
   "codemirror_mode": {
    "name": "ipython",
    "version": 3
   },
   "file_extension": ".py",
   "mimetype": "text/x-python",
   "name": "python",
   "nbconvert_exporter": "python",
   "pygments_lexer": "ipython3",
   "version": "3.11.5"
  }
 },
 "nbformat": 4,
 "nbformat_minor": 5
}
